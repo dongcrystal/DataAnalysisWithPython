{
 "cells": [
  {
   "cell_type": "code",
   "execution_count": 1,
   "id": "e51efab0-7866-42c7-94b1-7aebe80d9c71",
   "metadata": {},
   "outputs": [],
   "source": [
    "import pandas as pd"
   ]
  },
  {
   "cell_type": "code",
   "execution_count": 18,
   "id": "906fe1bb-6e55-49b9-aa48-469ed92c97f3",
   "metadata": {},
   "outputs": [],
   "source": [
    "mpg = pd.read_csv('/Users/dongsu/Desktop/데이터 분석 파일/제목 없는 설문지.csv')"
   ]
  },
  {
   "cell_type": "markdown",
   "id": "8764b23f-6791-4943-acba-2e2d619dcdcc",
   "metadata": {},
   "source": [
    "mpg"
   ]
  },
  {
   "cell_type": "code",
   "execution_count": 19,
   "id": "dbf05cc4-3350-4210-b750-239703d7e6a6",
   "metadata": {},
   "outputs": [],
   "source": [
    "import matplotlib.pyplot as plt"
   ]
  },
  {
   "cell_type": "code",
   "execution_count": 24,
   "id": "a1604a5d-1d1c-46c1-9607-59c84462161b",
   "metadata": {},
   "outputs": [
    {
     "data": {
      "text/plain": [
       "<bound method NDFrame._add_numeric_operations.<locals>.all of                            타임스탬프 1. 6세이전 부모로 부터 부정적 감정을 느낀적 있는지?  \\\n",
       "0   2022/11/05 11:29:14 오후 GMT+9                             아니오   \n",
       "1   2022/11/05 11:44:21 오후 GMT+9                             아니오   \n",
       "2   2022/11/06 12:22:47 오전 GMT+9                             아니오   \n",
       "3   2022/11/06 11:07:13 오전 GMT+9                               예   \n",
       "4    2022/11/09 7:36:11 오전 GMT+9                               예   \n",
       "..                           ...                             ...   \n",
       "84   2022/11/10 7:50:18 오후 GMT+9                               예   \n",
       "85   2022/11/10 7:50:23 오후 GMT+9                             아니오   \n",
       "86   2022/11/10 7:50:27 오후 GMT+9                               예   \n",
       "87   2022/11/10 7:50:37 오후 GMT+9                               예   \n",
       "88   2022/11/10 7:50:41 오후 GMT+9                             아니오   \n",
       "\n",
       "   2. 6세 이전 부정적 경험이 아직까지도 삶에 영향을 끼친다고 생각하는지? (본인의 경험이 아니더라도)  \\\n",
       "0                                                 아니오          \n",
       "1                                                 아니오          \n",
       "2                                                 아니오          \n",
       "3                                                 아니오          \n",
       "4                                                   예          \n",
       "..                                                ...          \n",
       "84                                                아니오          \n",
       "85                                                아니오          \n",
       "86                                                아니오          \n",
       "87                                                아니오          \n",
       "88                                                아니오          \n",
       "\n",
       "   3. 6세 이전의 경험이 지금 삶의 영향을 주고 있다고 생각하십니까?  \\\n",
       "0                                     아니오   \n",
       "1                                       예   \n",
       "2                                     아니오   \n",
       "3                                     아니오   \n",
       "4                                     아니오   \n",
       "..                                    ...   \n",
       "84                                    아니오   \n",
       "85                                    아니오   \n",
       "86                                    아니오   \n",
       "87                                      예   \n",
       "88                                    아니오   \n",
       "\n",
       "   3-1. (예 답한 사람만) 6세이전의 경험이 지금 어떤 영향을 준다고 생각하시나요?  Unnamed: 5  \n",
       "0                                              NaN         NaN  \n",
       "1                                              NaN         NaN  \n",
       "2                                              NaN         NaN  \n",
       "3                                              NaN         NaN  \n",
       "4                                              NaN         NaN  \n",
       "..                                             ...         ...  \n",
       "84                                             NaN         NaN  \n",
       "85                                             NaN         NaN  \n",
       "86                                             NaN         NaN  \n",
       "87                                             NaN         NaN  \n",
       "88                                             NaN         NaN  \n",
       "\n",
       "[89 rows x 6 columns]>"
      ]
     },
     "execution_count": 24,
     "metadata": {},
     "output_type": "execute_result"
    }
   ],
   "source": [
    "mpg.all"
   ]
  },
  {
   "cell_type": "code",
   "execution_count": null,
   "id": "3a8c0f43-0e2b-430b-b606-be8d841e76ea",
   "metadata": {},
   "outputs": [],
   "source": []
  }
 ],
 "metadata": {
  "kernelspec": {
   "display_name": "Python 3 (ipykernel)",
   "language": "python",
   "name": "python3"
  },
  "language_info": {
   "codemirror_mode": {
    "name": "ipython",
    "version": 3
   },
   "file_extension": ".py",
   "mimetype": "text/x-python",
   "name": "python",
   "nbconvert_exporter": "python",
   "pygments_lexer": "ipython3",
   "version": "3.9.12"
  }
 },
 "nbformat": 4,
 "nbformat_minor": 5
}
